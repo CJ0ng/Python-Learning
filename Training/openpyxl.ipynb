{
 "cells": [
  {
   "cell_type": "code",
   "execution_count": 1,
   "metadata": {},
   "outputs": [],
   "source": [
    "import openpyxl\n",
    "\n",
    "# Create a new Excel workbook\n",
    "workbook = openpyxl.Workbook()\n",
    "\n",
    "# Select the active sheet (usually the first sheet)\n",
    "sheet = workbook.active\n",
    "\n",
    "# Add data to cells\n",
    "sheet['A1'] = 'Hello'\n",
    "sheet['B1'] = 'World'\n",
    "\n",
    "# Save the workbook to a file\n",
    "workbook.save('example.xlsx')\n"
   ]
  },
  {
   "cell_type": "code",
   "execution_count": 10,
   "metadata": {},
   "outputs": [],
   "source": [
    "from openpyxl import load_workbook\n",
    "workbook = load_workbook('example.xlsx')\n",
    "sheet2 = workbook.create_sheet(\"Sheet2\")\n",
    "\n",
    "sheet2['C1'] = 21309247\n",
    "sheet2['C2'].value = '=C1+C1'\n",
    "\n",
    "workbook.save('example.xlsx')\n"
   ]
  }
 ],
 "metadata": {
  "kernelspec": {
   "display_name": "py38",
   "language": "python",
   "name": "python3"
  },
  "language_info": {
   "codemirror_mode": {
    "name": "ipython",
    "version": 3
   },
   "file_extension": ".py",
   "mimetype": "text/x-python",
   "name": "python",
   "nbconvert_exporter": "python",
   "pygments_lexer": "ipython3",
   "version": "3.8.17"
  },
  "orig_nbformat": 4
 },
 "nbformat": 4,
 "nbformat_minor": 2
}
