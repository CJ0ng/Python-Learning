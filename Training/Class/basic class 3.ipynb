{
 "cells": [
  {
   "cell_type": "code",
   "execution_count": 1,
   "metadata": {},
   "outputs": [],
   "source": [
    "class BankAccount:\n",
    "    def __init__(self, account_number, account_holder, initial_balance):\n",
    "        self.accNo = account_number\n",
    "        self.accHolder = account_holder\n",
    "        self.bal = initial_balance\n",
    "        \n",
    "    def deposit(self, ammount):\n",
    "        self.bal = self.bal + ammount\n",
    "        \n",
    "    def withdraw(self, ammount2):\n",
    "        if self.bal - ammount2 <0:\n",
    "            print(\"Not enuough funds!!\")\n",
    "        else:\n",
    "            self.bal = self.bal - ammount2\n",
    "    \n",
    "    def get_balance (self):\n",
    "        print(f\"Balance: {self.bal}\")\n",
    "        \n",
    "        "
   ]
  },
  {
   "cell_type": "code",
   "execution_count": 3,
   "metadata": {},
   "outputs": [],
   "source": [
    "x= BankAccount(123, \"Alex\", 1)"
   ]
  },
  {
   "cell_type": "code",
   "execution_count": 35,
   "metadata": {},
   "outputs": [
    {
     "name": "stdout",
     "output_type": "stream",
     "text": [
      "Balance: 1551\n",
      "Balance: 1651\n",
      "Balance: 1601\n"
     ]
    }
   ],
   "source": [
    "x.get_balance()\n",
    "x.deposit(100)\n",
    "x.get_balance()\n",
    "x.withdraw(50)\n",
    "x.get_balance()"
   ]
  }
 ],
 "metadata": {
  "kernelspec": {
   "display_name": "py38",
   "language": "python",
   "name": "python3"
  },
  "language_info": {
   "codemirror_mode": {
    "name": "ipython",
    "version": 3
   },
   "file_extension": ".py",
   "mimetype": "text/x-python",
   "name": "python",
   "nbconvert_exporter": "python",
   "pygments_lexer": "ipython3",
   "version": "3.8.17"
  },
  "orig_nbformat": 4
 },
 "nbformat": 4,
 "nbformat_minor": 2
}
