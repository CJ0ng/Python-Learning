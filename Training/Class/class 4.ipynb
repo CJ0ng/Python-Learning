{
 "cells": [
  {
   "cell_type": "code",
   "execution_count": 14,
   "metadata": {},
   "outputs": [],
   "source": [
    "import turtle\n",
    "    "
   ]
  },
  {
   "cell_type": "code",
   "execution_count": 15,
   "metadata": {},
   "outputs": [],
   "source": [
    "class polygon:\n",
    "    def __init__(self,sides, name, size = 100):\n",
    "        self.sides = sides\n",
    "        self.name = name\n",
    "        self.size = size\n",
    "        self.interior_angle = (self.sides-2)*180\n",
    "        self.angle = self.interior_angle/self.sides\n",
    "        \n",
    "    def draw(self):\n",
    "        for i in range(self.sides):\n",
    "            turtle.forward(self.size)\n",
    "            turtle.right(180-self.angle)\n",
    "        turtle.done()\n",
    "        "
   ]
  },
  {
   "cell_type": "code",
   "execution_count": 18,
   "metadata": {},
   "outputs": [],
   "source": [
    "square = polygon(4, \"square\")\n",
    "triangle = polygon(3, \"triangle\")\n",
    "pentagon = polygon(5, \"pentagon\")\n",
    "hexagon = polygon(6, \"hexagon\")\n",
    "heptagon = polygon(7, \"heptagon\")\n",
    "octagon = polygon(8, \"octagon\")\n",
    "decagon = polygon(10, \"decagon\")"
   ]
  },
  {
   "cell_type": "code",
   "execution_count": 25,
   "metadata": {},
   "outputs": [],
   "source": [
    "triangle.draw()"
   ]
  }
 ],
 "metadata": {
  "kernelspec": {
   "display_name": "py38",
   "language": "python",
   "name": "python3"
  },
  "language_info": {
   "codemirror_mode": {
    "name": "ipython",
    "version": 3
   },
   "file_extension": ".py",
   "mimetype": "text/x-python",
   "name": "python",
   "nbconvert_exporter": "python",
   "pygments_lexer": "ipython3",
   "version": "3.8.17"
  },
  "orig_nbformat": 4
 },
 "nbformat": 4,
 "nbformat_minor": 2
}
