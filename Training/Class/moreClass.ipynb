{
 "cells": [
  {
   "cell_type": "code",
   "execution_count": null,
   "metadata": {},
   "outputs": [],
   "source": [
    "class OnlineStore:\n",
    "    def __init__(self):\n",
    "        self.totalSales = 0\n",
    "        self.inventory = []\n",
    "    \n",
    "    def add_product(self, product_name, quantity, price):\n",
    "        pr"
   ]
  }
 ],
 "metadata": {
  "language_info": {
   "name": "python"
  },
  "orig_nbformat": 4
 },
 "nbformat": 4,
 "nbformat_minor": 2
}
