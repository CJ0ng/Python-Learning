{
 "cells": [
  {
   "cell_type": "code",
   "execution_count": 1,
   "metadata": {},
   "outputs": [],
   "source": [
    "from datetime import datetime, timedelta"
   ]
  },
  {
   "cell_type": "code",
   "execution_count": 3,
   "metadata": {},
   "outputs": [
    {
     "data": {
      "text/plain": [
       "'2023-11-13'"
      ]
     },
     "execution_count": 3,
     "metadata": {},
     "output_type": "execute_result"
    }
   ],
   "source": [
    "x = datetime.today().date()\n",
    "x = x-timedelta(days = 1)\n",
    "x = x.strftime('%Y-%m-%d')   #Capital M is for minutes and capital D is ntg\n",
    "x"
   ]
  },
  {
   "cell_type": "code",
   "execution_count": 1,
   "metadata": {},
   "outputs": [
    {
     "data": {
      "text/plain": [
       "{'[start_date]': '2023-02-08', '[end_date]': '2023-02-09'}"
      ]
     },
     "execution_count": 1,
     "metadata": {},
     "output_type": "execute_result"
    }
   ],
   "source": [
    "queries_params = {'[start_date]': '2023-02-08', '[end_date]': '2023-02-09'}\n",
    "queries_params"
   ]
  },
  {
   "cell_type": "code",
   "execution_count": 31,
   "metadata": {},
   "outputs": [
    {
     "name": "stdout",
     "output_type": "stream",
     "text": [
      "Today is: Thursday\n"
     ]
    }
   ],
   "source": [
    "from datetime import datetime\n",
    "\n",
    "# Get the current date\n",
    "current_date = datetime.now()\n",
    "\n",
    "# Get the day of the week (Monday is 0, Sunday is 6)\n",
    "day_of_week = current_date.weekday()\n",
    "\n",
    "# Map the integer to the corresponding day\n",
    "days = [\"Monday\", \"Tuesday\", \"Wednesday\", \"Thursday\", \"Friday\", \"Saturday\", \"Sunday\"]\n",
    "current_day = days[day_of_week]\n",
    "\n",
    "print(\"Today is:\", current_day)\n"
   ]
  },
  {
   "cell_type": "code",
   "execution_count": 5,
   "metadata": {},
   "outputs": [
    {
     "name": "stdout",
     "output_type": "stream",
     "text": [
      "Week 1\t12/01/2023\t12/03/2023\n",
      "Week 2\t12/04/2023\t12/10/2023\n",
      "Week 3\t12/11/2023\t12/17/2023\n",
      "Week 4\t12/18/2023\t12/24/2023\n",
      "Week 5\t12/25/2023\t12/31/2023\n"
     ]
    }
   ],
   "source": [
    "from datetime import datetime, timedelta\n",
    "\n",
    "def get_previous_month():\n",
    "    today = datetime.today()\n",
    "    first_day_previous_month = datetime(today.year, today.month, 1) - timedelta(days=1)\n",
    "    year = first_day_previous_month.year\n",
    "    month = first_day_previous_month.month\n",
    "    \n",
    "    # Set date\n",
    "    year = 2023\n",
    "    month = 12\n",
    "    return year, month\n",
    "\n",
    "def get_sunday_of_week(date):\n",
    "    return date - timedelta(days=date.weekday())\n",
    "\n",
    "def get_weekly_intervals(year, month):\n",
    "    # Find the first day of the month\n",
    "    first_day_of_month = datetime(year, month, 1)\n",
    "\n",
    "    # Find the first Sunday of the month\n",
    "    first_sunday = get_sunday_of_week(first_day_of_month)\n",
    "\n",
    "    # Check if the next month exceeds 12, adjust year and set month to 1\n",
    "    next_month = month + 1\n",
    "    if next_month > 12:\n",
    "        next_month = 1\n",
    "        year += 1\n",
    "\n",
    "    last_day_of_month = datetime(year, next_month, 1) - timedelta(days=1)\n",
    "\n",
    "    weekly_intervals = []\n",
    "    current_day = first_sunday\n",
    "\n",
    "    while current_day <= last_day_of_month:\n",
    "        current_saturday = min(current_day + timedelta(days=6), last_day_of_month)\n",
    "        \n",
    "        # Adjust start day to the first day of the month for Week 1\n",
    "        start_day = first_day_of_month if current_day == first_sunday else current_day\n",
    "\n",
    "        weekly_intervals.append({\n",
    "            \"Week\": len(weekly_intervals) + 1,\n",
    "            \"From\": start_day.strftime(\"%m/%d/%Y\"),\n",
    "            \"To\": current_saturday.strftime(\"%m/%d/%Y\")\n",
    "        })\n",
    "        current_day = current_saturday + timedelta(days=1)\n",
    "\n",
    "    return weekly_intervals\n",
    "\n",
    "previous_year, previous_month = get_previous_month()\n",
    "weekly_intervals = get_weekly_intervals(previous_year, previous_month)\n",
    "\n",
    "for interval in weekly_intervals:\n",
    "    print(f\"Week {interval['Week']}\\t{interval['From']}\\t{interval['To']}\")\n"
   ]
  },
  {
   "cell_type": "code",
   "execution_count": 50,
   "metadata": {},
   "outputs": [],
   "source": [
    "from datetime import datetime, timedelta\n",
    "from openpyxl import Workbook\n",
    "\n",
    "def get_previous_month():\n",
    "    today = datetime.today()\n",
    "    first_day_previous_month = datetime(today.year, today.month, 1) - timedelta(days=1)\n",
    "    year = first_day_previous_month.year\n",
    "    month = first_day_previous_month.month\n",
    "    \n",
    "    # Set date\n",
    "    year = 2024\n",
    "    month = 12\n",
    "    return year, month\n",
    "\n",
    "def get_sunday_of_week(date):\n",
    "    return date - timedelta(days=date.weekday())\n",
    "\n",
    "def get_weekly_intervals(year, month):\n",
    "    # Find the first day of the month\n",
    "    first_day_of_month = datetime(year, month, 1)\n",
    "\n",
    "    # Find the first Sunday of the month\n",
    "    first_sunday = get_sunday_of_week(first_day_of_month)\n",
    "\n",
    "    # Check if the next month exceeds 12, adjust year and set month to 1\n",
    "    next_month = month + 1\n",
    "    if next_month > 12:\n",
    "        next_month = 1\n",
    "        year += 1\n",
    "\n",
    "    last_day_of_month = datetime(year, next_month, 1) - timedelta(days=1)\n",
    "\n",
    "    weekly_intervals = []\n",
    "    current_day = first_sunday\n",
    "\n",
    "    while current_day <= last_day_of_month:\n",
    "        current_saturday = min(current_day + timedelta(days=6), last_day_of_month)\n",
    "        \n",
    "        # Adjust start day to the first day of the month for Week 1\n",
    "        start_day = first_day_of_month if current_day == first_sunday else current_day\n",
    "\n",
    "        weekly_intervals.append({\n",
    "            \"Week\": len(weekly_intervals) + 1,\n",
    "            \"From\": start_day,\n",
    "            \"To\": current_saturday\n",
    "        })\n",
    "        current_day = current_saturday + timedelta(days=1)\n",
    "\n",
    "    return weekly_intervals\n",
    "\n",
    "def write_to_excel(weekly_intervals):\n",
    "    wb = Workbook()\n",
    "\n",
    "    # Create two worksheets\n",
    "    ws_summary = wb.create_sheet(\"Weekly Gross Deposit Summary\")\n",
    "    ws_result = wb.create_sheet(\"Weekly Gross Deposit Result\")\n",
    "\n",
    "    # Write headers\n",
    "    headers = ['Week', 'From', 'To']\n",
    "    ws_summary.append(headers)\n",
    "    ws_result.append(headers)\n",
    "\n",
    "    # Write data for both worksheets\n",
    "    for interval in weekly_intervals:\n",
    "        ws_summary.append([f\"Week {interval['Week']}\"] + [interval['From'].strftime(\"%m/%d/%Y\"), interval['To'].strftime(\"%m/%d/%Y\")])\n",
    "        ws_result.append([f\"Week {interval['Week']}\"] + [interval['From'].strftime(\"%m/%d/%Y\"), interval['To'].strftime(\"%m/%d/%Y\")])\n",
    "\n",
    "    # Set values in specified cells\n",
    "    ws_summary['O6'] = 'Week 1'\n",
    "    ws_result['O6'] = 'Week 1'\n",
    "\n",
    "    for i, interval in enumerate(weekly_intervals, start=1):\n",
    "        ws_summary[f'O{i + 6}'] = f\"Week {interval['Week']}\"\n",
    "        ws_summary[f'P{i + 5}'] = interval['From'].strftime(\"%m/%d/%Y\")\n",
    "        ws_summary[f'Q{i + 5}'] = interval['To'].strftime(\"%m/%d/%Y\")\n",
    "\n",
    "        ws_result[f'O{i + 6}'] = f\"Week {interval['Week']}\"\n",
    "        ws_result[f'P{i + 5}'] = interval['From'].strftime(\"%m/%d/%Y\")\n",
    "        ws_result[f'Q{i + 5}'] = interval['To'].strftime(\"%m/%d/%Y\")\n",
    "\n",
    "    # Save the workbook\n",
    "    wb.save(\"weekly_intervals.xlsx\")\n",
    "\n",
    "# Get weekly intervals\n",
    "previous_year, previous_month = get_previous_month()\n",
    "weekly_intervals = get_weekly_intervals(previous_year, previous_month)\n",
    "\n",
    "# Write to Excel\n",
    "write_to_excel(weekly_intervals)\n"
   ]
  },
  {
   "cell_type": "code",
   "execution_count": 10,
   "metadata": {},
   "outputs": [],
   "source": [
    "from datetime import datetime, timedelta\n",
    "from openpyxl import Workbook\n",
    "\n",
    "def get_previous_month():\n",
    "    today = datetime.today()\n",
    "    first_day_previous_month = datetime(today.year, today.month, 1) - timedelta(days=1)\n",
    "    year = first_day_previous_month.year\n",
    "    month = first_day_previous_month.month\n",
    "    \n",
    "    # Set date\n",
    "    # year = 2024\n",
    "    # month = 12\n",
    "    return year, month\n",
    "\n",
    "def get_sunday_of_week(date):\n",
    "    return date - timedelta(days=date.weekday())\n",
    "\n",
    "def get_weekly_intervals(year, month):\n",
    "    # Find the first day of the month\n",
    "    first_day_of_month = datetime(year, month, 1)\n",
    "\n",
    "    # Find the first Sunday of the month\n",
    "    first_sunday = get_sunday_of_week(first_day_of_month)\n",
    "\n",
    "    # Check if the next month exceeds 12, adjust year and set month to 1\n",
    "    next_month = month + 1\n",
    "    if next_month > 12:\n",
    "        next_month = 1\n",
    "        year += 1\n",
    "\n",
    "    last_day_of_month = datetime(year, next_month, 1) - timedelta(days=1)\n",
    "\n",
    "    weekly_intervals = []\n",
    "    current_day = first_sunday\n",
    "\n",
    "    while current_day <= last_day_of_month:\n",
    "        current_saturday = min(current_day + timedelta(days=6), last_day_of_month)\n",
    "        \n",
    "        # Adjust start day to the first day of the month for Week 1\n",
    "        start_day = first_day_of_month if current_day == first_sunday else current_day\n",
    "\n",
    "        weekly_intervals.append({\n",
    "            \"Week\": len(weekly_intervals) + 1,\n",
    "            \"From\": start_day,\n",
    "            \"To\": current_saturday\n",
    "        })\n",
    "        current_day = current_saturday + timedelta(days=1)\n",
    "\n",
    "    return weekly_intervals"
   ]
  },
  {
   "cell_type": "code",
   "execution_count": 11,
   "metadata": {},
   "outputs": [
    {
     "name": "stdout",
     "output_type": "stream",
     "text": [
      "Data appended to weekly_intervals.xlsx\n"
     ]
    },
    {
     "name": "stderr",
     "output_type": "stream",
     "text": [
      "C:\\Users\\chungjing.ong\\AppData\\Local\\Temp\\ipykernel_340\\3616344472.py:9: DeprecationWarning: Call to deprecated function get_sheet_by_name (Use wb[sheetname]).\n",
      "  ws_summary = wb.get_sheet_by_name(\"Weekly Gross Deposit Summary\") if \"Weekly Gross Deposit Summary\" in wb.sheetnames else wb.create_sheet(\"Weekly Gross Deposit Summary\")\n",
      "C:\\Users\\chungjing.ong\\AppData\\Local\\Temp\\ipykernel_340\\3616344472.py:10: DeprecationWarning: Call to deprecated function get_sheet_by_name (Use wb[sheetname]).\n",
      "  ws_result = wb.get_sheet_by_name(\"Weekly Gross Deposit Result\") if \"Weekly Gross Deposit Result\" in wb.sheetnames else wb.create_sheet(\"Weekly Gross Deposit Result\")\n"
     ]
    }
   ],
   "source": [
    "from openpyxl import load_workbook\n",
    "\n",
    "def write_to_existing_excel(weekly_intervals, existing_filename):\n",
    "    try:\n",
    "        # Load existing workbook\n",
    "        wb = load_workbook(existing_filename)\n",
    "\n",
    "        # Get existing worksheets or create new ones if they don't exist\n",
    "        ws_summary = wb.get_sheet_by_name(\"Weekly Gross Deposit Summary\") if \"Weekly Gross Deposit Summary\" in wb.sheetnames else wb.create_sheet(\"Weekly Gross Deposit Summary\")\n",
    "        ws_result = wb.get_sheet_by_name(\"Weekly Gross Deposit Result\") if \"Weekly Gross Deposit Result\" in wb.sheetnames else wb.create_sheet(\"Weekly Gross Deposit Result\")\n",
    "\n",
    "        # Specify the starting row and column for the new data\n",
    "        start_row = 5\n",
    "        start_col = 15  # Column O\n",
    "\n",
    "        # Write data for both worksheets\n",
    "        for i, interval in enumerate(weekly_intervals, start=1):\n",
    "            # Exclude weeks where From and To are empty\n",
    "            if interval[\"From\"] and interval[\"To\"]:\n",
    "                ws_summary.cell(row=i + start_row, column=start_col, value=f\"Week {interval['Week']}\")\n",
    "                ws_summary.cell(row=i + start_row, column=start_col + 1, value=interval['From'].strftime(\"%m/%d/%Y\"))\n",
    "                ws_summary.cell(row=i + start_row, column=start_col + 2, value=interval['To'].strftime(\"%m/%d/%Y\"))\n",
    "\n",
    "                ws_result.cell(row=i + start_row, column=start_col, value=f\"Week {interval['Week']}\")\n",
    "                ws_result.cell(row=i + start_row, column=start_col + 1, value=interval['From'].strftime(\"%m/%d/%Y\"))\n",
    "                ws_result.cell(row=i + start_row, column=start_col + 2, value=interval['To'].strftime(\"%m/%d/%Y\"))\n",
    "\n",
    "        # Save the workbook\n",
    "        wb.save(existing_filename)\n",
    "        print(f\"Data appended to {existing_filename}\")\n",
    "\n",
    "    except Exception as e:\n",
    "        print(f\"Error: {e}\")\n",
    "\n",
    "# Specify the existing workbook filename\n",
    "existing_filename = \"weekly_intervals.xlsx\"\n",
    "\n",
    "# Get weekly intervals\n",
    "previous_year, previous_month = get_previous_month()\n",
    "weekly_intervals = get_weekly_intervals(previous_year, previous_month)\n",
    "\n",
    "# Append data to the specified range in the existing workbook\n",
    "write_to_existing_excel(weekly_intervals, existing_filename)\n"
   ]
  },
  {
   "cell_type": "code",
   "execution_count": 12,
   "metadata": {},
   "outputs": [
    {
     "name": "stdout",
     "output_type": "stream",
     "text": [
      "Nov\n"
     ]
    }
   ],
   "source": [
    "import calendar\n",
    "from datetime import datetime, timedelta\n",
    "\n",
    "last_month_name = (datetime.today().replace(day=1) - timedelta(days=1) ).strftime('%b')\n",
    "print(last_month_name)\n"
   ]
  }
 ],
 "metadata": {
  "kernelspec": {
   "display_name": "py38",
   "language": "python",
   "name": "python3"
  },
  "language_info": {
   "codemirror_mode": {
    "name": "ipython",
    "version": 3
   },
   "file_extension": ".py",
   "mimetype": "text/x-python",
   "name": "python",
   "nbconvert_exporter": "python",
   "pygments_lexer": "ipython3",
   "version": "3.8.17"
  }
 },
 "nbformat": 4,
 "nbformat_minor": 2
}
