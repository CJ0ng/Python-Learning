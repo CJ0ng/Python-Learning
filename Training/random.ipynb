{
 "cells": [
  {
   "cell_type": "code",
   "execution_count": 4,
   "metadata": {},
   "outputs": [
    {
     "name": "stdout",
     "output_type": "stream",
     "text": [
      "!dlrow olleh\n"
     ]
    }
   ],
   "source": [
    "#reverse String\n",
    "x = 'hello world!'\n",
    "z = x[::-1]\n",
    "print(z)"
   ]
  },
  {
   "cell_type": "code",
   "execution_count": 23,
   "metadata": {},
   "outputs": [
    {
     "name": "stdout",
     "output_type": "stream",
     "text": [
      "54321\n"
     ]
    }
   ],
   "source": [
    "#Reverse Int\n",
    "digit =  12345\n",
    "x = 0\n",
    "while digit > 0:\n",
    "    x = x*10 + digit % 10\n",
    "    digit =  digit//10\n",
    "print(x)"
   ]
  },
  {
   "cell_type": "code",
   "execution_count": 1,
   "metadata": {},
   "outputs": [
    {
     "name": "stdout",
     "output_type": "stream",
     "text": [
      "DX !! dlrow olleh\n"
     ]
    }
   ],
   "source": [
    "#reverse string\n",
    "x = \"hello world !! XD\"\n",
    "y = x[::-1]\n",
    "print(y)"
   ]
  },
  {
   "cell_type": "code",
   "execution_count": 3,
   "metadata": {},
   "outputs": [
    {
     "data": {
      "text/plain": [
       "True"
      ]
     },
     "execution_count": 3,
     "metadata": {},
     "output_type": "execute_result"
    }
   ],
   "source": [
    "#check if reverse same\n",
    "def check():\n",
    "    x = input('Enter to check: ').lower()\n",
    "    y = x[::-1]\n",
    "\n",
    "    if y == x:\n",
    "        return True\n",
    "    else:\n",
    "        return False\n",
    "check()"
   ]
  },
  {
   "cell_type": "code",
   "execution_count": 23,
   "metadata": {},
   "outputs": [
    {
     "name": "stdout",
     "output_type": "stream",
     "text": [
      "['D', 'K', 'L', 'S']\n",
      "['D', 'K', 'L', 'S']\n"
     ]
    },
    {
     "data": {
      "text/plain": [
       "True"
      ]
     },
     "execution_count": 23,
     "metadata": {},
     "output_type": "execute_result"
    }
   ],
   "source": [
    "#Anagram Check\n",
    "x = input(\"Word 1: \")\n",
    "y = input(\"Word 2: \")\n",
    "\n",
    "def check(x,y):\n",
    "    x= sorted(list(x.upper()))\n",
    "    \n",
    "    print(x)\n",
    "    \n",
    "    y=sorted(list(y.upper()))\n",
    "    \n",
    "    print(y)\n",
    "    if x == y:\n",
    "        return True\n",
    "    else:\n",
    "        return False\n",
    "check(x,y)"
   ]
  },
  {
   "cell_type": "code",
   "execution_count": 4,
   "metadata": {},
   "outputs": [
    {
     "name": "stdout",
     "output_type": "stream",
     "text": [
      "['1', '3', '4', '6']\n"
     ]
    }
   ],
   "source": [
    "#cross check list\n",
    "list1 = []\n",
    "x = input(\"Enter values for list 1 (press enter to quit)\")\n",
    "while x != \"\":\n",
    "    list1.append(x)\n",
    "    x = input(\"Enter values for list 1 (press enter to quit)\")\n",
    "    \n",
    "list2 = []\n",
    "y = input(\"Enter values for list 2 (press enter to quit)\")\n",
    "while y != \"\":\n",
    "    list2.append(y)\n",
    "    y = input(\"Enter values for list 2 (press enter to quit)\")\n",
    "    \n",
    "ans = []    \n",
    "\n",
    "for i in list1:\n",
    "    for j in list2:\n",
    "        if i == j and i not in ans:\n",
    "            ans.append(i)\n",
    "print(ans)"
   ]
  },
  {
   "cell_type": "code",
   "execution_count": 19,
   "metadata": {},
   "outputs": [
    {
     "name": "stdout",
     "output_type": "stream",
     "text": [
      "The longest substring is : apple\n"
     ]
    }
   ],
   "source": [
    "# Longest Substring without repeating characters\n",
    "# xword = input(\"String: \")\n",
    "# yword = input(\"String: \")\n",
    "xword = 'apple'\n",
    "yword = 'banana'\n",
    "\n",
    "x= list(xword.upper())\n",
    "y= list(yword.upper())\n",
    "\n",
    "x = len(set(x))\n",
    "y = len(set(y))\n",
    "    \n",
    "if x > y:\n",
    "    print(f'The longest substring is : {xword}')\n",
    "elif x == y:\n",
    "    print(\"Both have the same substring\")\n",
    "else:\n",
    "    print(f'The longest substring is : {yword}')\n"
   ]
  },
  {
   "cell_type": "code",
   "execution_count": 20,
   "metadata": {},
   "outputs": [
    {
     "name": "stdout",
     "output_type": "stream",
     "text": [
      "Both strings have the same length of the longest unique substring.\n"
     ]
    }
   ],
   "source": [
    "# xword = input(\"String: \")\n",
    "# yword = input(\"String: \")\n",
    "xword = 'apple'\n",
    "yword = 'banana'\n",
    "# Function to find the length of the longest unique substring\n",
    "def longest_unique_substring_length(word):\n",
    "    max_length = 0\n",
    "    current_length = 0\n",
    "    seen_chars = set()\n",
    "\n",
    "    for char in word:\n",
    "        if char not in seen_chars:\n",
    "            seen_chars.add(char)\n",
    "            current_length += 1\n",
    "        else:\n",
    "            seen_chars.clear()\n",
    "            seen_chars.add(char)\n",
    "            current_length = 1\n",
    "\n",
    "        if current_length > max_length:\n",
    "            max_length = current_length\n",
    "\n",
    "    return max_length\n",
    "\n",
    "x_length = longest_unique_substring_length(xword.upper())\n",
    "y_length = longest_unique_substring_length(yword.upper())\n",
    "\n",
    "if x_length > y_length:\n",
    "    print(f'The longest unique substring is in the first string: {xword}')\n",
    "elif x_length == y_length:\n",
    "    print(\"Both strings have the same length of the longest unique substring.\")\n",
    "else:\n",
    "    print(f'The longest unique substring is in the second string: {yword}')\n"
   ]
  },
  {
   "cell_type": "code",
   "execution_count": 3,
   "metadata": {},
   "outputs": [
    {
     "ename": "AssertionError",
     "evalue": "x should not be negative",
     "output_type": "error",
     "traceback": [
      "\u001b[1;31m---------------------------------------------------------------------------\u001b[0m",
      "\u001b[1;31mAssertionError\u001b[0m                            Traceback (most recent call last)",
      "\u001b[1;32mc:\\Users\\chungjing.ong\\Documents\\Python WorkSpace\\Python Learning\\Training\\random.ipynb Cell 9\u001b[0m line \u001b[0;36m4\n\u001b[0;32m      <a href='vscode-notebook-cell:/c%3A/Users/chungjing.ong/Documents/Python%20WorkSpace/Python%20Learning/Training/random.ipynb#X11sZmlsZQ%3D%3D?line=0'>1</a>\u001b[0m \u001b[39m# Assert, Used for debugging or checking process.\u001b[39;00m\n\u001b[0;32m      <a href='vscode-notebook-cell:/c%3A/Users/chungjing.ong/Documents/Python%20WorkSpace/Python%20Learning/Training/random.ipynb#X11sZmlsZQ%3D%3D?line=2'>3</a>\u001b[0m x \u001b[39m=\u001b[39m \u001b[39m-\u001b[39m\u001b[39m5\u001b[39m\n\u001b[1;32m----> <a href='vscode-notebook-cell:/c%3A/Users/chungjing.ong/Documents/Python%20WorkSpace/Python%20Learning/Training/random.ipynb#X11sZmlsZQ%3D%3D?line=3'>4</a>\u001b[0m \u001b[39massert\u001b[39;00m x \u001b[39m>\u001b[39m\u001b[39m=\u001b[39m \u001b[39m0\u001b[39m, \u001b[39m'\u001b[39m\u001b[39mx should not be negative\u001b[39m\u001b[39m'\u001b[39m\n",
      "\u001b[1;31mAssertionError\u001b[0m: x should not be negative"
     ]
    }
   ],
   "source": [
    "# Assert, Used for debugging or checking process.\n",
    "\n",
    "x = -5\n",
    "assert x >= 0, 'x should not be negative'\n",
    "\n"
   ]
  },
  {
   "cell_type": "code",
   "execution_count": 11,
   "metadata": {},
   "outputs": [
    {
     "name": "stdout",
     "output_type": "stream",
     "text": [
      "This is a newline:\n",
      "Second line {name}\n",
      "\n",
      "This is a newline:\n",
      "Second line Alex\n",
      "\n",
      "This is a newline:\\nSecond line {name}\n"
     ]
    }
   ],
   "source": [
    "# Types of String\n",
    "name = 'Alex'\n",
    "\n",
    "regular_string = \"This is a newline:\\nSecond line {name}\"\n",
    "\n",
    "formatted_string = f\"This is a newline:\\nSecond line {name}\"\n",
    "\n",
    "raw_string = r\"This is a newline:\\nSecond line {name}\"\n",
    "\n",
    "print(regular_string)\n",
    "print('')\n",
    "print (formatted_string)\n",
    "print('')\n",
    "print(raw_string)"
   ]
  }
 ],
 "metadata": {
  "kernelspec": {
   "display_name": "py38",
   "language": "python",
   "name": "python3"
  },
  "language_info": {
   "codemirror_mode": {
    "name": "ipython",
    "version": 3
   },
   "file_extension": ".py",
   "mimetype": "text/x-python",
   "name": "python",
   "nbconvert_exporter": "python",
   "pygments_lexer": "ipython3",
   "version": "3.8.17"
  },
  "orig_nbformat": 4
 },
 "nbformat": 4,
 "nbformat_minor": 2
}
