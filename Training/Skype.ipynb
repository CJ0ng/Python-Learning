{
 "cells": [
  {
   "cell_type": "code",
   "execution_count": 11,
   "metadata": {},
   "outputs": [],
   "source": [
    "from skpy import Skype, SkypeAuthException\n"
   ]
  },
  {
   "cell_type": "code",
   "execution_count": 14,
   "metadata": {},
   "outputs": [],
   "source": [
    "username = 'ongchungjing1405@gmail.com'\n",
    "password = 'haha20010514'\n",
    "\n",
    "sk = Skype(username, password)  # Connect to Skype\n"
   ]
  },
  {
   "cell_type": "code",
   "execution_count": 25,
   "metadata": {},
   "outputs": [
    {
     "data": {
      "text/plain": [
       "SkypeTextMsg(id='1701157017093', type='Text', time=datetime.datetime(2023, 11, 28, 15, 36, 57, 85000), clientId='1701157017008', userId='live:.cid.13d79530d1917c9a', chatId='8:live:.cid.13d79530d1917c9a', content='idk how wilson chg emoji name(dog: XD)(dog)(dog)')"
      ]
     },
     "execution_count": 25,
     "metadata": {},
     "output_type": "execute_result"
    }
   ],
   "source": [
    "contact = sk.contacts['live:wongyuenchin96']\n",
    "contact.chat.sendMsg('idk how wilson chg emoji name(dog: XD)(dog)(dog)')"
   ]
  }
 ],
 "metadata": {
  "kernelspec": {
   "display_name": "py38",
   "language": "python",
   "name": "python3"
  },
  "language_info": {
   "codemirror_mode": {
    "name": "ipython",
    "version": 3
   },
   "file_extension": ".py",
   "mimetype": "text/x-python",
   "name": "python",
   "nbconvert_exporter": "python",
   "pygments_lexer": "ipython3",
   "version": "3.8.17"
  }
 },
 "nbformat": 4,
 "nbformat_minor": 2
}
