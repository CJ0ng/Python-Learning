{
 "cells": [
  {
   "cell_type": "code",
   "execution_count": 6,
   "metadata": {},
   "outputs": [
    {
     "name": "stdout",
     "output_type": "stream",
     "text": [
      "['2', '3', '4', '5']\n"
     ]
    }
   ],
   "source": [
    "#cross check list\n",
    "list1 = []\n",
    "x = input(\"Enter values for list 1 (press enter to quit)\")\n",
    "while x != \"\":\n",
    "    list1.append(x)\n",
    "    x = input(\"Enter values for list 1 (press enter to quit)\")\n",
    "    \n",
    "list2 = []\n",
    "y = input(\"Enter values for list 2 (press enter to quit)\")\n",
    "while y != \"\":\n",
    "    list2.append(y)\n",
    "    y = input(\"Enter values for list 2 (press enter to quit)\")\n",
    "    \n",
    "ans = []    \n",
    "\n",
    "for i in list1:\n",
    "    for j in list2:\n",
    "        if i == j and i not in ans:\n",
    "            ans.append(i)\n",
    "print(ans)\n",
    "    \n"
   ]
  },
  {
   "cell_type": "code",
   "execution_count": 11,
   "metadata": {},
   "outputs": [
    {
     "name": "stdout",
     "output_type": "stream",
     "text": [
      "6\n"
     ]
    }
   ],
   "source": [
    "#sum list\n",
    "sumlist = []\n",
    "x = input(\"Enter values: \")\n",
    "while x != \"\":\n",
    "    sumlist.append(int(x))\n",
    "    x = input(\"Enter values: \")\n",
    "total = 0\n",
    "for i in sumlist:\n",
    "    total = total + i\n",
    "print(total)"
   ]
  }
 ],
 "metadata": {
  "kernelspec": {
   "display_name": "py38",
   "language": "python",
   "name": "python3"
  },
  "language_info": {
   "codemirror_mode": {
    "name": "ipython",
    "version": 3
   },
   "file_extension": ".py",
   "mimetype": "text/x-python",
   "name": "python",
   "nbconvert_exporter": "python",
   "pygments_lexer": "ipython3",
   "version": "3.8.17"
  },
  "orig_nbformat": 4
 },
 "nbformat": 4,
 "nbformat_minor": 2
}
