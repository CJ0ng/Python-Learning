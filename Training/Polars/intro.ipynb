{
 "cells": [
  {
   "cell_type": "code",
   "execution_count": 2,
   "metadata": {},
   "outputs": [
    {
     "name": "stdout",
     "output_type": "stream",
     "text": [
      "0.19.8\n"
     ]
    }
   ],
   "source": [
    "import polars as pl\n",
    "print(pl.__version__)"
   ]
  },
  {
   "cell_type": "code",
   "execution_count": 4,
   "metadata": {},
   "outputs": [],
   "source": [
    "df = pl.read_csv(r'C:\\Users\\chungjing.ong\\Documents\\Python WorkSpace\\Python Learning\\Data\\pokemon_data.csv')"
   ]
  },
  {
   "cell_type": "code",
   "execution_count": 14,
   "metadata": {},
   "outputs": [
    {
     "name": "stdout",
     "output_type": "stream",
     "text": [
      "shape: (800, 12)\n",
      "┌─────┬───────────────────────┬─────────┬────────┬───┬─────────┬───────┬────────────┬───────────┐\n",
      "│ #   ┆ Name                  ┆ Type 1  ┆ Type 2 ┆ … ┆ Sp. Def ┆ Speed ┆ Generation ┆ Legendary │\n",
      "│ --- ┆ ---                   ┆ ---     ┆ ---    ┆   ┆ ---     ┆ ---   ┆ ---        ┆ ---       │\n",
      "│ i64 ┆ str                   ┆ str     ┆ str    ┆   ┆ i64     ┆ i64   ┆ i64        ┆ bool      │\n",
      "╞═════╪═══════════════════════╪═════════╪════════╪═══╪═════════╪═══════╪════════════╪═══════════╡\n",
      "│ 1   ┆ Bulbasaur             ┆ Grass   ┆ Poison ┆ … ┆ 65      ┆ 45    ┆ 1          ┆ false     │\n",
      "│ 2   ┆ Ivysaur               ┆ Grass   ┆ Poison ┆ … ┆ 80      ┆ 60    ┆ 1          ┆ false     │\n",
      "│ 3   ┆ Venusaur              ┆ Grass   ┆ Poison ┆ … ┆ 100     ┆ 80    ┆ 1          ┆ false     │\n",
      "│ 3   ┆ VenusaurMega Venusaur ┆ Grass   ┆ Poison ┆ … ┆ 120     ┆ 80    ┆ 1          ┆ false     │\n",
      "│ …   ┆ …                     ┆ …       ┆ …      ┆ … ┆ …       ┆ …     ┆ …          ┆ …         │\n",
      "│ 719 ┆ DiancieMega Diancie   ┆ Rock    ┆ Fairy  ┆ … ┆ 110     ┆ 110   ┆ 6          ┆ true      │\n",
      "│ 720 ┆ HoopaHoopa Confined   ┆ Psychic ┆ Ghost  ┆ … ┆ 130     ┆ 70    ┆ 6          ┆ true      │\n",
      "│ 720 ┆ HoopaHoopa Unbound    ┆ Psychic ┆ Dark   ┆ … ┆ 130     ┆ 80    ┆ 6          ┆ true      │\n",
      "│ 721 ┆ Volcanion             ┆ Fire    ┆ Water  ┆ … ┆ 90      ┆ 70    ┆ 6          ┆ true      │\n",
      "└─────┴───────────────────────┴─────────┴────────┴───┴─────────┴───────┴────────────┴───────────┘\n"
     ]
    }
   ],
   "source": [
    "print(df)"
   ]
  },
  {
   "cell_type": "code",
   "execution_count": 83,
   "metadata": {},
   "outputs": [
    {
     "ename": "TypeError",
     "evalue": "'int' object is not callable",
     "output_type": "error",
     "traceback": [
      "\u001b[1;31m---------------------------------------------------------------------------\u001b[0m",
      "\u001b[1;31mTypeError\u001b[0m                                 Traceback (most recent call last)",
      "\u001b[1;32mc:\\Users\\chungjing.ong\\Documents\\Python WorkSpace\\Python Learning\\Training\\Polars\\intro.ipynb Cell 4\u001b[0m line \u001b[0;36m3\n\u001b[0;32m      <a href='vscode-notebook-cell:/c%3A/Users/chungjing.ong/Documents/Python%20WorkSpace/Python%20Learning/Training/Polars/intro.ipynb#W5sZmlsZQ%3D%3D?line=0'>1</a>\u001b[0m pl\u001b[39m.\u001b[39mConfig\u001b[39m.\u001b[39mset_tbl_rows(\u001b[39m10000\u001b[39m)\n\u001b[0;32m      <a href='vscode-notebook-cell:/c%3A/Users/chungjing.ong/Documents/Python%20WorkSpace/Python%20Learning/Training/Polars/intro.ipynb#W5sZmlsZQ%3D%3D?line=1'>2</a>\u001b[0m pl\u001b[39m.\u001b[39mConfig\u001b[39m.\u001b[39mset_tbl_cols(\u001b[39m1000\u001b[39m)\n\u001b[1;32m----> <a href='vscode-notebook-cell:/c%3A/Users/chungjing.ong/Documents/Python%20WorkSpace/Python%20Learning/Training/Polars/intro.ipynb#W5sZmlsZQ%3D%3D?line=2'>3</a>\u001b[0m pl\u001b[39m.\u001b[39;49mConfig\u001b[39m.\u001b[39;49mset_tbl_width_chars(width\u001b[39m=\u001b[39;49m\u001b[39m100\u001b[39;49m)\n",
      "\u001b[1;31mTypeError\u001b[0m: 'int' object is not callable"
     ]
    }
   ],
   "source": [
    "pl.Config.set_tbl_rows(10000)\n",
    "pl.Config.set_tbl_cols(1000)\n",
    "pl.Config.set_tbl_width_chars(width=100)"
   ]
  },
  {
   "cell_type": "code",
   "execution_count": 67,
   "metadata": {},
   "outputs": [
    {
     "name": "stdout",
     "output_type": "stream",
     "text": [
      "shape: (65, 12)\n",
      "┌─────┬────────┬────────┬────────┬─────┬────────┬────────┬────────┬────────┬───────┬───────┬───────┐\n",
      "│ #   ┆ Name   ┆ Type 1 ┆ Type 2 ┆ HP  ┆ Attack ┆ Defens ┆ Sp.    ┆ Sp.    ┆ Speed ┆ Gener ┆ Legen │\n",
      "│ --- ┆ ---    ┆ ---    ┆ ---    ┆ --- ┆ ---    ┆ e      ┆ Atk    ┆ Def    ┆ ---   ┆ ation ┆ dary  │\n",
      "│ i64 ┆ str    ┆ str    ┆ str    ┆ i64 ┆ i64    ┆ ---    ┆ ---    ┆ ---    ┆ i64   ┆ ---   ┆ ---   │\n",
      "│     ┆        ┆        ┆        ┆     ┆        ┆ i64    ┆ i64    ┆ i64    ┆       ┆ i64   ┆ bool  │\n",
      "╞═════╪════════╪════════╪════════╪═════╪════════╪════════╪════════╪════════╪═══════╪═══════╪═══════╡\n",
      "│ 144 ┆ Articu ┆ Ice    ┆ Flying ┆ 90  ┆ 85     ┆ 100    ┆ 95     ┆ 125    ┆ 85    ┆ 1     ┆ true  │\n",
      "│     ┆ no     ┆        ┆        ┆     ┆        ┆        ┆        ┆        ┆       ┆       ┆       │\n",
      "│ 145 ┆ Zapdos ┆ Electr ┆ Flying ┆ 90  ┆ 90     ┆ 85     ┆ 125    ┆ 90     ┆ 100   ┆ 1     ┆ true  │\n",
      "│     ┆        ┆ ic     ┆        ┆     ┆        ┆        ┆        ┆        ┆       ┆       ┆       │\n",
      "│ 146 ┆ Moltre ┆ Fire   ┆ Flying ┆ 90  ┆ 100    ┆ 90     ┆ 125    ┆ 85     ┆ 90    ┆ 1     ┆ true  │\n",
      "│     ┆ s      ┆        ┆        ┆     ┆        ┆        ┆        ┆        ┆       ┆       ┆       │\n",
      "│ 150 ┆ Mewtwo ┆ Psychi ┆ null   ┆ 106 ┆ 110    ┆ 90     ┆ 154    ┆ 90     ┆ 130   ┆ 1     ┆ true  │\n",
      "│     ┆        ┆ c      ┆        ┆     ┆        ┆        ┆        ┆        ┆       ┆       ┆       │\n",
      "│ 150 ┆ Mewtwo ┆ Psychi ┆ Fighti ┆ 106 ┆ 190    ┆ 100    ┆ 154    ┆ 100    ┆ 130   ┆ 1     ┆ true  │\n",
      "│     ┆ Mega   ┆ c      ┆ ng     ┆     ┆        ┆        ┆        ┆        ┆       ┆       ┆       │\n",
      "│     ┆ Mewtwo ┆        ┆        ┆     ┆        ┆        ┆        ┆        ┆       ┆       ┆       │\n",
      "│     ┆ X      ┆        ┆        ┆     ┆        ┆        ┆        ┆        ┆       ┆       ┆       │\n",
      "│ 150 ┆ Mewtwo ┆ Psychi ┆ null   ┆ 106 ┆ 150    ┆ 70     ┆ 194    ┆ 120    ┆ 140   ┆ 1     ┆ true  │\n",
      "│     ┆ Mega   ┆ c      ┆        ┆     ┆        ┆        ┆        ┆        ┆       ┆       ┆       │\n",
      "│     ┆ Mewtwo ┆        ┆        ┆     ┆        ┆        ┆        ┆        ┆       ┆       ┆       │\n",
      "│     ┆ Y      ┆        ┆        ┆     ┆        ┆        ┆        ┆        ┆       ┆       ┆       │\n",
      "│ 243 ┆ Raikou ┆ Electr ┆ null   ┆ 90  ┆ 85     ┆ 75     ┆ 115    ┆ 100    ┆ 115   ┆ 2     ┆ true  │\n",
      "│     ┆        ┆ ic     ┆        ┆     ┆        ┆        ┆        ┆        ┆       ┆       ┆       │\n",
      "│ 244 ┆ Entei  ┆ Fire   ┆ null   ┆ 115 ┆ 115    ┆ 85     ┆ 90     ┆ 75     ┆ 100   ┆ 2     ┆ true  │\n",
      "│ 245 ┆ Suicun ┆ Water  ┆ null   ┆ 100 ┆ 75     ┆ 115    ┆ 90     ┆ 115    ┆ 85    ┆ 2     ┆ true  │\n",
      "│     ┆ e      ┆        ┆        ┆     ┆        ┆        ┆        ┆        ┆       ┆       ┆       │\n",
      "│ 249 ┆ Lugia  ┆ Psychi ┆ Flying ┆ 106 ┆ 90     ┆ 130    ┆ 90     ┆ 154    ┆ 110   ┆ 2     ┆ true  │\n",
      "│     ┆        ┆ c      ┆        ┆     ┆        ┆        ┆        ┆        ┆       ┆       ┆       │\n",
      "│ 250 ┆ Ho-oh  ┆ Fire   ┆ Flying ┆ 106 ┆ 130    ┆ 90     ┆ 110    ┆ 154    ┆ 90    ┆ 2     ┆ true  │\n",
      "│ 377 ┆ Regiro ┆ Rock   ┆ null   ┆ 80  ┆ 100    ┆ 200    ┆ 50     ┆ 100    ┆ 50    ┆ 3     ┆ true  │\n",
      "│     ┆ ck     ┆        ┆        ┆     ┆        ┆        ┆        ┆        ┆       ┆       ┆       │\n",
      "│ 378 ┆ Regice ┆ Ice    ┆ null   ┆ 80  ┆ 50     ┆ 100    ┆ 100    ┆ 200    ┆ 50    ┆ 3     ┆ true  │\n",
      "│ 379 ┆ Regist ┆ Steel  ┆ null   ┆ 80  ┆ 75     ┆ 150    ┆ 75     ┆ 150    ┆ 50    ┆ 3     ┆ true  │\n",
      "│     ┆ eel    ┆        ┆        ┆     ┆        ┆        ┆        ┆        ┆       ┆       ┆       │\n",
      "│ 380 ┆ Latias ┆ Dragon ┆ Psychi ┆ 80  ┆ 80     ┆ 90     ┆ 110    ┆ 130    ┆ 110   ┆ 3     ┆ true  │\n",
      "│     ┆        ┆        ┆ c      ┆     ┆        ┆        ┆        ┆        ┆       ┆       ┆       │\n",
      "│ 380 ┆ Latias ┆ Dragon ┆ Psychi ┆ 80  ┆ 100    ┆ 120    ┆ 140    ┆ 150    ┆ 110   ┆ 3     ┆ true  │\n",
      "│     ┆ Mega   ┆        ┆ c      ┆     ┆        ┆        ┆        ┆        ┆       ┆       ┆       │\n",
      "│     ┆ Latias ┆        ┆        ┆     ┆        ┆        ┆        ┆        ┆       ┆       ┆       │\n",
      "│ 381 ┆ Latios ┆ Dragon ┆ Psychi ┆ 80  ┆ 90     ┆ 80     ┆ 130    ┆ 110    ┆ 110   ┆ 3     ┆ true  │\n",
      "│     ┆        ┆        ┆ c      ┆     ┆        ┆        ┆        ┆        ┆       ┆       ┆       │\n",
      "│ 381 ┆ Latios ┆ Dragon ┆ Psychi ┆ 80  ┆ 130    ┆ 100    ┆ 160    ┆ 120    ┆ 110   ┆ 3     ┆ true  │\n",
      "│     ┆ Mega   ┆        ┆ c      ┆     ┆        ┆        ┆        ┆        ┆       ┆       ┆       │\n",
      "│     ┆ Latios ┆        ┆        ┆     ┆        ┆        ┆        ┆        ┆       ┆       ┆       │\n",
      "│ 382 ┆ Kyogre ┆ Water  ┆ null   ┆ 100 ┆ 100    ┆ 90     ┆ 150    ┆ 140    ┆ 90    ┆ 3     ┆ true  │\n",
      "│ 382 ┆ Kyogre ┆ Water  ┆ null   ┆ 100 ┆ 150    ┆ 90     ┆ 180    ┆ 160    ┆ 90    ┆ 3     ┆ true  │\n",
      "│     ┆ Primal ┆        ┆        ┆     ┆        ┆        ┆        ┆        ┆       ┆       ┆       │\n",
      "│     ┆ Kyogre ┆        ┆        ┆     ┆        ┆        ┆        ┆        ┆       ┆       ┆       │\n",
      "│ 383 ┆ Groudo ┆ Ground ┆ null   ┆ 100 ┆ 150    ┆ 140    ┆ 100    ┆ 90     ┆ 90    ┆ 3     ┆ true  │\n",
      "│     ┆ n      ┆        ┆        ┆     ┆        ┆        ┆        ┆        ┆       ┆       ┆       │\n",
      "│ 383 ┆ Groudo ┆ Ground ┆ Fire   ┆ 100 ┆ 180    ┆ 160    ┆ 150    ┆ 90     ┆ 90    ┆ 3     ┆ true  │\n",
      "│     ┆ nPrima ┆        ┆        ┆     ┆        ┆        ┆        ┆        ┆       ┆       ┆       │\n",
      "│     ┆ l Grou ┆        ┆        ┆     ┆        ┆        ┆        ┆        ┆       ┆       ┆       │\n",
      "│     ┆ don    ┆        ┆        ┆     ┆        ┆        ┆        ┆        ┆       ┆       ┆       │\n",
      "│ 384 ┆ Rayqua ┆ Dragon ┆ Flying ┆ 105 ┆ 150    ┆ 90     ┆ 150    ┆ 90     ┆ 95    ┆ 3     ┆ true  │\n",
      "│     ┆ za     ┆        ┆        ┆     ┆        ┆        ┆        ┆        ┆       ┆       ┆       │\n",
      "│ 384 ┆ Rayqua ┆ Dragon ┆ Flying ┆ 105 ┆ 180    ┆ 100    ┆ 180    ┆ 100    ┆ 115   ┆ 3     ┆ true  │\n",
      "│     ┆ zaMega ┆        ┆        ┆     ┆        ┆        ┆        ┆        ┆       ┆       ┆       │\n",
      "│     ┆ Rayqua ┆        ┆        ┆     ┆        ┆        ┆        ┆        ┆       ┆       ┆       │\n",
      "│     ┆ za     ┆        ┆        ┆     ┆        ┆        ┆        ┆        ┆       ┆       ┆       │\n",
      "│ 385 ┆ Jirach ┆ Steel  ┆ Psychi ┆ 100 ┆ 100    ┆ 100    ┆ 100    ┆ 100    ┆ 100   ┆ 3     ┆ true  │\n",
      "│     ┆ i      ┆        ┆ c      ┆     ┆        ┆        ┆        ┆        ┆       ┆       ┆       │\n",
      "│ 386 ┆ Deoxys ┆ Psychi ┆ null   ┆ 50  ┆ 150    ┆ 50     ┆ 150    ┆ 50     ┆ 150   ┆ 3     ┆ true  │\n",
      "│     ┆ Normal ┆ c      ┆        ┆     ┆        ┆        ┆        ┆        ┆       ┆       ┆       │\n",
      "│     ┆ Forme  ┆        ┆        ┆     ┆        ┆        ┆        ┆        ┆       ┆       ┆       │\n",
      "│ 386 ┆ Deoxys ┆ Psychi ┆ null   ┆ 50  ┆ 180    ┆ 20     ┆ 180    ┆ 20     ┆ 150   ┆ 3     ┆ true  │\n",
      "│     ┆ Attack ┆ c      ┆        ┆     ┆        ┆        ┆        ┆        ┆       ┆       ┆       │\n",
      "│     ┆ Forme  ┆        ┆        ┆     ┆        ┆        ┆        ┆        ┆       ┆       ┆       │\n",
      "│ 386 ┆ Deoxys ┆ Psychi ┆ null   ┆ 50  ┆ 70     ┆ 160    ┆ 70     ┆ 160    ┆ 90    ┆ 3     ┆ true  │\n",
      "│     ┆ Defens ┆ c      ┆        ┆     ┆        ┆        ┆        ┆        ┆       ┆       ┆       │\n",
      "│     ┆ e      ┆        ┆        ┆     ┆        ┆        ┆        ┆        ┆       ┆       ┆       │\n",
      "│     ┆ Forme  ┆        ┆        ┆     ┆        ┆        ┆        ┆        ┆       ┆       ┆       │\n",
      "│ 386 ┆ Deoxys ┆ Psychi ┆ null   ┆ 50  ┆ 95     ┆ 90     ┆ 95     ┆ 90     ┆ 180   ┆ 3     ┆ true  │\n",
      "│     ┆ Speed  ┆ c      ┆        ┆     ┆        ┆        ┆        ┆        ┆       ┆       ┆       │\n",
      "│     ┆ Forme  ┆        ┆        ┆     ┆        ┆        ┆        ┆        ┆       ┆       ┆       │\n",
      "│ 480 ┆ Uxie   ┆ Psychi ┆ null   ┆ 75  ┆ 75     ┆ 130    ┆ 75     ┆ 130    ┆ 95    ┆ 4     ┆ true  │\n",
      "│     ┆        ┆ c      ┆        ┆     ┆        ┆        ┆        ┆        ┆       ┆       ┆       │\n",
      "│ 481 ┆ Mespri ┆ Psychi ┆ null   ┆ 80  ┆ 105    ┆ 105    ┆ 105    ┆ 105    ┆ 80    ┆ 4     ┆ true  │\n",
      "│     ┆ t      ┆ c      ┆        ┆     ┆        ┆        ┆        ┆        ┆       ┆       ┆       │\n",
      "│ 482 ┆ Azelf  ┆ Psychi ┆ null   ┆ 75  ┆ 125    ┆ 70     ┆ 125    ┆ 70     ┆ 115   ┆ 4     ┆ true  │\n",
      "│     ┆        ┆ c      ┆        ┆     ┆        ┆        ┆        ┆        ┆       ┆       ┆       │\n",
      "│ 483 ┆ Dialga ┆ Steel  ┆ Dragon ┆ 100 ┆ 120    ┆ 120    ┆ 150    ┆ 100    ┆ 90    ┆ 4     ┆ true  │\n",
      "│ 484 ┆ Palkia ┆ Water  ┆ Dragon ┆ 90  ┆ 120    ┆ 100    ┆ 150    ┆ 120    ┆ 100   ┆ 4     ┆ true  │\n",
      "│ 485 ┆ Heatra ┆ Fire   ┆ Steel  ┆ 91  ┆ 90     ┆ 106    ┆ 130    ┆ 106    ┆ 77    ┆ 4     ┆ true  │\n",
      "│     ┆ n      ┆        ┆        ┆     ┆        ┆        ┆        ┆        ┆       ┆       ┆       │\n",
      "│ 486 ┆ Regigi ┆ Normal ┆ null   ┆ 110 ┆ 160    ┆ 110    ┆ 80     ┆ 110    ┆ 100   ┆ 4     ┆ true  │\n",
      "│     ┆ gas    ┆        ┆        ┆     ┆        ┆        ┆        ┆        ┆       ┆       ┆       │\n",
      "│ 487 ┆ Girati ┆ Ghost  ┆ Dragon ┆ 150 ┆ 100    ┆ 120    ┆ 100    ┆ 120    ┆ 90    ┆ 4     ┆ true  │\n",
      "│     ┆ naAlte ┆        ┆        ┆     ┆        ┆        ┆        ┆        ┆       ┆       ┆       │\n",
      "│     ┆ red    ┆        ┆        ┆     ┆        ┆        ┆        ┆        ┆       ┆       ┆       │\n",
      "│     ┆ Forme  ┆        ┆        ┆     ┆        ┆        ┆        ┆        ┆       ┆       ┆       │\n",
      "│ 487 ┆ Girati ┆ Ghost  ┆ Dragon ┆ 150 ┆ 120    ┆ 100    ┆ 120    ┆ 100    ┆ 90    ┆ 4     ┆ true  │\n",
      "│     ┆ naOrig ┆        ┆        ┆     ┆        ┆        ┆        ┆        ┆       ┆       ┆       │\n",
      "│     ┆ in     ┆        ┆        ┆     ┆        ┆        ┆        ┆        ┆       ┆       ┆       │\n",
      "│     ┆ Forme  ┆        ┆        ┆     ┆        ┆        ┆        ┆        ┆       ┆       ┆       │\n",
      "│ 491 ┆ Darkra ┆ Dark   ┆ null   ┆ 70  ┆ 90     ┆ 90     ┆ 135    ┆ 90     ┆ 125   ┆ 4     ┆ true  │\n",
      "│     ┆ i      ┆        ┆        ┆     ┆        ┆        ┆        ┆        ┆       ┆       ┆       │\n",
      "│ 492 ┆ Shaymi ┆ Grass  ┆ null   ┆ 100 ┆ 100    ┆ 100    ┆ 100    ┆ 100    ┆ 100   ┆ 4     ┆ true  │\n",
      "│     ┆ nLand  ┆        ┆        ┆     ┆        ┆        ┆        ┆        ┆       ┆       ┆       │\n",
      "│     ┆ Forme  ┆        ┆        ┆     ┆        ┆        ┆        ┆        ┆       ┆       ┆       │\n",
      "│ 492 ┆ Shaymi ┆ Grass  ┆ Flying ┆ 100 ┆ 103    ┆ 75     ┆ 120    ┆ 75     ┆ 127   ┆ 4     ┆ true  │\n",
      "│     ┆ nSky   ┆        ┆        ┆     ┆        ┆        ┆        ┆        ┆       ┆       ┆       │\n",
      "│     ┆ Forme  ┆        ┆        ┆     ┆        ┆        ┆        ┆        ┆       ┆       ┆       │\n",
      "│ 493 ┆ Arceus ┆ Normal ┆ null   ┆ 120 ┆ 120    ┆ 120    ┆ 120    ┆ 120    ┆ 120   ┆ 4     ┆ true  │\n",
      "│ 494 ┆ Victin ┆ Psychi ┆ Fire   ┆ 100 ┆ 100    ┆ 100    ┆ 100    ┆ 100    ┆ 100   ┆ 5     ┆ true  │\n",
      "│     ┆ i      ┆ c      ┆        ┆     ┆        ┆        ┆        ┆        ┆       ┆       ┆       │\n",
      "│ 638 ┆ Cobali ┆ Steel  ┆ Fighti ┆ 91  ┆ 90     ┆ 129    ┆ 90     ┆ 72     ┆ 108   ┆ 5     ┆ true  │\n",
      "│     ┆ on     ┆        ┆ ng     ┆     ┆        ┆        ┆        ┆        ┆       ┆       ┆       │\n",
      "│ 639 ┆ Terrak ┆ Rock   ┆ Fighti ┆ 91  ┆ 129    ┆ 90     ┆ 72     ┆ 90     ┆ 108   ┆ 5     ┆ true  │\n",
      "│     ┆ ion    ┆        ┆ ng     ┆     ┆        ┆        ┆        ┆        ┆       ┆       ┆       │\n",
      "│ 640 ┆ Virizi ┆ Grass  ┆ Fighti ┆ 91  ┆ 90     ┆ 72     ┆ 90     ┆ 129    ┆ 108   ┆ 5     ┆ true  │\n",
      "│     ┆ on     ┆        ┆ ng     ┆     ┆        ┆        ┆        ┆        ┆       ┆       ┆       │\n",
      "│ 641 ┆ Tornad ┆ Flying ┆ null   ┆ 79  ┆ 115    ┆ 70     ┆ 125    ┆ 80     ┆ 111   ┆ 5     ┆ true  │\n",
      "│     ┆ usInca ┆        ┆        ┆     ┆        ┆        ┆        ┆        ┆       ┆       ┆       │\n",
      "│     ┆ rnate  ┆        ┆        ┆     ┆        ┆        ┆        ┆        ┆       ┆       ┆       │\n",
      "│     ┆ Forme  ┆        ┆        ┆     ┆        ┆        ┆        ┆        ┆       ┆       ┆       │\n",
      "│ 641 ┆ Tornad ┆ Flying ┆ null   ┆ 79  ┆ 100    ┆ 80     ┆ 110    ┆ 90     ┆ 121   ┆ 5     ┆ true  │\n",
      "│     ┆ usTher ┆        ┆        ┆     ┆        ┆        ┆        ┆        ┆       ┆       ┆       │\n",
      "│     ┆ ian    ┆        ┆        ┆     ┆        ┆        ┆        ┆        ┆       ┆       ┆       │\n",
      "│     ┆ Forme  ┆        ┆        ┆     ┆        ┆        ┆        ┆        ┆       ┆       ┆       │\n",
      "│ 642 ┆ Thundu ┆ Electr ┆ Flying ┆ 79  ┆ 115    ┆ 70     ┆ 125    ┆ 80     ┆ 111   ┆ 5     ┆ true  │\n",
      "│     ┆ rusInc ┆ ic     ┆        ┆     ┆        ┆        ┆        ┆        ┆       ┆       ┆       │\n",
      "│     ┆ arnate ┆        ┆        ┆     ┆        ┆        ┆        ┆        ┆       ┆       ┆       │\n",
      "│     ┆ Forme  ┆        ┆        ┆     ┆        ┆        ┆        ┆        ┆       ┆       ┆       │\n",
      "│ 642 ┆ Thundu ┆ Electr ┆ Flying ┆ 79  ┆ 105    ┆ 70     ┆ 145    ┆ 80     ┆ 101   ┆ 5     ┆ true  │\n",
      "│     ┆ rusThe ┆ ic     ┆        ┆     ┆        ┆        ┆        ┆        ┆       ┆       ┆       │\n",
      "│     ┆ rian   ┆        ┆        ┆     ┆        ┆        ┆        ┆        ┆       ┆       ┆       │\n",
      "│     ┆ Forme  ┆        ┆        ┆     ┆        ┆        ┆        ┆        ┆       ┆       ┆       │\n",
      "│ 643 ┆ Reshir ┆ Dragon ┆ Fire   ┆ 100 ┆ 120    ┆ 100    ┆ 150    ┆ 120    ┆ 90    ┆ 5     ┆ true  │\n",
      "│     ┆ am     ┆        ┆        ┆     ┆        ┆        ┆        ┆        ┆       ┆       ┆       │\n",
      "│ 644 ┆ Zekrom ┆ Dragon ┆ Electr ┆ 100 ┆ 150    ┆ 120    ┆ 120    ┆ 100    ┆ 90    ┆ 5     ┆ true  │\n",
      "│     ┆        ┆        ┆ ic     ┆     ┆        ┆        ┆        ┆        ┆       ┆       ┆       │\n",
      "│ 645 ┆ Landor ┆ Ground ┆ Flying ┆ 89  ┆ 125    ┆ 90     ┆ 115    ┆ 80     ┆ 101   ┆ 5     ┆ true  │\n",
      "│     ┆ usInca ┆        ┆        ┆     ┆        ┆        ┆        ┆        ┆       ┆       ┆       │\n",
      "│     ┆ rnate  ┆        ┆        ┆     ┆        ┆        ┆        ┆        ┆       ┆       ┆       │\n",
      "│     ┆ Forme  ┆        ┆        ┆     ┆        ┆        ┆        ┆        ┆       ┆       ┆       │\n",
      "│ 645 ┆ Landor ┆ Ground ┆ Flying ┆ 89  ┆ 145    ┆ 90     ┆ 105    ┆ 80     ┆ 91    ┆ 5     ┆ true  │\n",
      "│     ┆ usTher ┆        ┆        ┆     ┆        ┆        ┆        ┆        ┆       ┆       ┆       │\n",
      "│     ┆ ian    ┆        ┆        ┆     ┆        ┆        ┆        ┆        ┆       ┆       ┆       │\n",
      "│     ┆ Forme  ┆        ┆        ┆     ┆        ┆        ┆        ┆        ┆       ┆       ┆       │\n",
      "│ 646 ┆ Kyurem ┆ Dragon ┆ Ice    ┆ 125 ┆ 130    ┆ 90     ┆ 130    ┆ 90     ┆ 95    ┆ 5     ┆ true  │\n",
      "│ 646 ┆ Kyurem ┆ Dragon ┆ Ice    ┆ 125 ┆ 170    ┆ 100    ┆ 120    ┆ 90     ┆ 95    ┆ 5     ┆ true  │\n",
      "│     ┆ Black  ┆        ┆        ┆     ┆        ┆        ┆        ┆        ┆       ┆       ┆       │\n",
      "│     ┆ Kyurem ┆        ┆        ┆     ┆        ┆        ┆        ┆        ┆       ┆       ┆       │\n",
      "│ 646 ┆ Kyurem ┆ Dragon ┆ Ice    ┆ 125 ┆ 120    ┆ 90     ┆ 170    ┆ 100    ┆ 95    ┆ 5     ┆ true  │\n",
      "│     ┆ White  ┆        ┆        ┆     ┆        ┆        ┆        ┆        ┆       ┆       ┆       │\n",
      "│     ┆ Kyurem ┆        ┆        ┆     ┆        ┆        ┆        ┆        ┆       ┆       ┆       │\n",
      "│ 716 ┆ Xernea ┆ Fairy  ┆ null   ┆ 126 ┆ 131    ┆ 95     ┆ 131    ┆ 98     ┆ 99    ┆ 6     ┆ true  │\n",
      "│     ┆ s      ┆        ┆        ┆     ┆        ┆        ┆        ┆        ┆       ┆       ┆       │\n",
      "│ 717 ┆ Yvelta ┆ Dark   ┆ Flying ┆ 126 ┆ 131    ┆ 95     ┆ 131    ┆ 98     ┆ 99    ┆ 6     ┆ true  │\n",
      "│     ┆ l      ┆        ┆        ┆     ┆        ┆        ┆        ┆        ┆       ┆       ┆       │\n",
      "│ 718 ┆ Zygard ┆ Dragon ┆ Ground ┆ 108 ┆ 100    ┆ 121    ┆ 81     ┆ 95     ┆ 95    ┆ 6     ┆ true  │\n",
      "│     ┆ e50%   ┆        ┆        ┆     ┆        ┆        ┆        ┆        ┆       ┆       ┆       │\n",
      "│     ┆ Forme  ┆        ┆        ┆     ┆        ┆        ┆        ┆        ┆       ┆       ┆       │\n",
      "│ 719 ┆ Dianci ┆ Rock   ┆ Fairy  ┆ 50  ┆ 100    ┆ 150    ┆ 100    ┆ 150    ┆ 50    ┆ 6     ┆ true  │\n",
      "│     ┆ e      ┆        ┆        ┆     ┆        ┆        ┆        ┆        ┆       ┆       ┆       │\n",
      "│ 719 ┆ Dianci ┆ Rock   ┆ Fairy  ┆ 50  ┆ 160    ┆ 110    ┆ 160    ┆ 110    ┆ 110   ┆ 6     ┆ true  │\n",
      "│     ┆ eMega  ┆        ┆        ┆     ┆        ┆        ┆        ┆        ┆       ┆       ┆       │\n",
      "│     ┆ Dianci ┆        ┆        ┆     ┆        ┆        ┆        ┆        ┆       ┆       ┆       │\n",
      "│     ┆ e      ┆        ┆        ┆     ┆        ┆        ┆        ┆        ┆       ┆       ┆       │\n",
      "│ 720 ┆ HoopaH ┆ Psychi ┆ Ghost  ┆ 80  ┆ 110    ┆ 60     ┆ 150    ┆ 130    ┆ 70    ┆ 6     ┆ true  │\n",
      "│     ┆ oopa   ┆ c      ┆        ┆     ┆        ┆        ┆        ┆        ┆       ┆       ┆       │\n",
      "│     ┆ Confin ┆        ┆        ┆     ┆        ┆        ┆        ┆        ┆       ┆       ┆       │\n",
      "│     ┆ ed     ┆        ┆        ┆     ┆        ┆        ┆        ┆        ┆       ┆       ┆       │\n",
      "│ 720 ┆ HoopaH ┆ Psychi ┆ Dark   ┆ 80  ┆ 160    ┆ 60     ┆ 170    ┆ 130    ┆ 80    ┆ 6     ┆ true  │\n",
      "│     ┆ oopa   ┆ c      ┆        ┆     ┆        ┆        ┆        ┆        ┆       ┆       ┆       │\n",
      "│     ┆ Unboun ┆        ┆        ┆     ┆        ┆        ┆        ┆        ┆       ┆       ┆       │\n",
      "│     ┆ d      ┆        ┆        ┆     ┆        ┆        ┆        ┆        ┆       ┆       ┆       │\n",
      "│ 721 ┆ Volcan ┆ Fire   ┆ Water  ┆ 80  ┆ 110    ┆ 120    ┆ 130    ┆ 90     ┆ 70    ┆ 6     ┆ true  │\n",
      "│     ┆ ion    ┆        ┆        ┆     ┆        ┆        ┆        ┆        ┆       ┆       ┆       │\n",
      "└─────┴────────┴────────┴────────┴─────┴────────┴────────┴────────┴────────┴───────┴───────┴───────┘\n"
     ]
    }
   ],
   "source": [
    "output = df.filter(pl.col('Legendary')== True).select(\"*\")\n",
    "\n",
    "print(output)"
   ]
  },
  {
   "cell_type": "code",
   "execution_count": 55,
   "metadata": {},
   "outputs": [
    {
     "name": "stdout",
     "output_type": "stream",
     "text": [
      "Rows: 65\n",
      "Columns: 12\n",
      "$ #           <i64> 144, 145, 146, 150, 150, 150, 243, 244, 245, 249\n",
      "$ Name        <str> 'Articuno', 'Zapdos', 'Moltres', 'Mewtwo', 'MewtwoMega Mewtwo X', 'MewtwoMega Mewtwo Y', 'Raikou', 'Entei', 'Suicune', 'Lugia'\n",
      "$ Type 1      <str> 'Ice', 'Electric', 'Fire', 'Psychic', 'Psychic', 'Psychic', 'Electric', 'Fire', 'Water', 'Psychic'\n",
      "$ Type 2      <str> 'Flying', 'Flying', 'Flying', None, 'Fighting', None, None, None, None, 'Flying'\n",
      "$ HP          <i64> 90, 90, 90, 106, 106, 106, 90, 115, 100, 106\n",
      "$ Attack      <i64> 85, 90, 100, 110, 190, 150, 85, 115, 75, 90\n",
      "$ Defense     <i64> 100, 85, 90, 90, 100, 70, 75, 85, 115, 130\n",
      "$ Sp. Atk     <i64> 95, 125, 125, 154, 154, 194, 115, 90, 90, 90\n",
      "$ Sp. Def     <i64> 125, 90, 85, 90, 100, 120, 100, 75, 115, 154\n",
      "$ Speed       <i64> 85, 100, 90, 130, 130, 140, 115, 100, 85, 110\n",
      "$ Generation  <i64> 1, 1, 1, 1, 1, 1, 2, 2, 2, 2\n",
      "$ Legendary  <bool> True, True, True, True, True, True, True, True, True, True\n",
      "\n"
     ]
    }
   ],
   "source": [
    "output.glimpse()"
   ]
  }
 ],
 "metadata": {
  "kernelspec": {
   "display_name": "py38",
   "language": "python",
   "name": "python3"
  },
  "language_info": {
   "codemirror_mode": {
    "name": "ipython",
    "version": 3
   },
   "file_extension": ".py",
   "mimetype": "text/x-python",
   "name": "python",
   "nbconvert_exporter": "python",
   "pygments_lexer": "ipython3",
   "version": "3.8.17"
  },
  "orig_nbformat": 4
 },
 "nbformat": 4,
 "nbformat_minor": 2
}
